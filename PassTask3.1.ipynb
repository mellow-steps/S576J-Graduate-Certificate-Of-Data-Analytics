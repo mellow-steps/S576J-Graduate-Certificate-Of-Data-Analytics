{
  "nbformat": 4,
  "nbformat_minor": 0,
  "metadata": {
    "colab": {
      "provenance": [],
      "authorship_tag": "ABX9TyOLKIpqTRLM7VDS7Pa77Hn9",
      "include_colab_link": true
    },
    "kernelspec": {
      "name": "python3",
      "display_name": "Python 3"
    },
    "language_info": {
      "name": "python"
    }
  },
  "cells": [
    {
      "cell_type": "markdown",
      "metadata": {
        "id": "view-in-github",
        "colab_type": "text"
      },
      "source": [
        "<a href=\"https://colab.research.google.com/github/mellow-steps/S576J-Graduate-Certificate-Of-Data-Analytics/blob/main/PassTask3.1.ipynb\" target=\"_parent\"><img src=\"https://colab.research.google.com/assets/colab-badge.svg\" alt=\"Open In Colab\"/></a>"
      ]
    },
    {
      "cell_type": "markdown",
      "source": [
        "# An introduction to machine learning with scikit-learn\n",
        "In machine learning, a learning problem involves predicting properties of unknown data based on a set of samples. There are several categories of learning problems:\n",
        "\n",
        "**Supervised Learning:** Data comes with additional attributes we want to\n",
        "predict. It includes:\n",
        "*   **Classification:** Predicting discrete categories for unlabeled data.\n",
        "*   **Regression:** Predicting continuous variables.\n",
        "\n",
        "**Unsupervised Learning:** Training data consists only of input vectors without corresponding target values. Goals include clustering and density estimation.\n",
        "\n",
        "Understanding the importance of training and testing sets is crucial. Models are trained on a training set and evaluated on a separate testing set to assess their performance accurately.\n",
        "\n"
      ],
      "metadata": {
        "id": "eDDD3IstADin"
      }
    },
    {
      "cell_type": "markdown",
      "source": [
        "# Loading Example Datasets\n",
        "Standard datasets like iris and digits are readily available in scikit-learn:"
      ],
      "metadata": {
        "id": "_OWp8Dh-AaF8"
      }
    },
    {
      "cell_type": "code",
      "source": [
        "from sklearn import datasets\n",
        "\n",
        "iris = datasets.load_iris()\n",
        "digits = datasets.load_digits()\n"
      ],
      "metadata": {
        "id": "0z9rN9TDAe8c"
      },
      "execution_count": null,
      "outputs": []
    },
    {
      "cell_type": "markdown",
      "source": [
        "The dataset object contains .data for features and .target for labels."
      ],
      "metadata": {
        "id": "VnBbhnkmAfon"
      }
    }
  ]
}