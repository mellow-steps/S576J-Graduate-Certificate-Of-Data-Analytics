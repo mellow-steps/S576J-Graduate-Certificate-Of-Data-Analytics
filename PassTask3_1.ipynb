{
  "nbformat": 4,
  "nbformat_minor": 0,
  "metadata": {
    "colab": {
      "provenance": [],
      "authorship_tag": "ABX9TyO6RwIQQnD4CC7ZSNUFxepQ",
      "include_colab_link": true
    },
    "kernelspec": {
      "name": "python3",
      "display_name": "Python 3"
    },
    "language_info": {
      "name": "python"
    }
  },
  "cells": [
    {
      "cell_type": "markdown",
      "metadata": {
        "id": "view-in-github",
        "colab_type": "text"
      },
      "source": [
        "<a href=\"https://colab.research.google.com/github/mellow-steps/S576J-Graduate-Certificate-Of-Data-Analytics/blob/main/PassTask3_1.ipynb\" target=\"_parent\"><img src=\"https://colab.research.google.com/assets/colab-badge.svg\" alt=\"Open In Colab\"/></a>"
      ]
    },
    {
      "cell_type": "markdown",
      "source": [
        "# Collection of scikit-learn commands for machine learning\n",
        "\n"
      ],
      "metadata": {
        "id": "eDDD3IstADin"
      }
    },
    {
      "cell_type": "markdown",
      "source": [
        "###  Importing Modules:\n",
        "**Purpose:** Import necessary modules from scikit-learn.\n",
        "\n",
        "datasets: This module provides access to various datasets that are commonly used for machine learning tasks.\n",
        "\n",
        "svm: This module contains implementations of Support Vector Machine (SVM) algorithms, which are powerful supervised learning models used for classification and regression tasks.\n",
        "\n",
        "SVC: This class implements the Support Vector Classification (SVC) algorithm, which is a type of SVM algorithm used for classification tasks. SVC is effective in separating classes by finding the optimal hyperplane that maximizes the margin between classes in the feature space."
      ],
      "metadata": {
        "id": "NG-1GJFbGglb"
      }
    },
    {
      "cell_type": "code",
      "source": [
        "from sklearn import datasets\n",
        "from sklearn import svm\n",
        "from sklearn.svm import SVC\n"
      ],
      "metadata": {
        "id": "N0iMXHnKGwxJ"
      },
      "execution_count": 6,
      "outputs": []
    },
    {
      "cell_type": "markdown",
      "source": [
        "###  Loading Example Datasets:\n",
        "**Purpose:** Load example datasets provided by scikit-learn.\n"
      ],
      "metadata": {
        "id": "SRo4ZB4sG6Wv"
      }
    },
    {
      "cell_type": "code",
      "source": [
        "iris = datasets.load_iris()\n",
        "digits = datasets.load_digits()\n"
      ],
      "metadata": {
        "id": "YoHnrgKCHTrM"
      },
      "execution_count": 7,
      "outputs": []
    },
    {
      "cell_type": "markdown",
      "source": [
        "### Loading External Datasets:\n",
        "**Purpose:** Load datasets from external sources.\n",
        "\n",
        "In Google Colab, you can upload files directly to the runtime environment.\n",
        "Click on the \"Files\" tab on the left sidebar in Google Colab.\n",
        "Click on the \"Upload to session storage\" icon.\n",
        "Select the file from your local system and upload it.\n",
        "Once the file is uploaded, you can access it using its filename directly in your code. There's no need to specify a path, as the file is uploaded to the current working directory.\n",
        "\n",
        "For example, after uploading 'payment_fraud.csv', you can read it into a DataFrame using pd.read_csv('payment_fraud.csv')."
      ],
      "metadata": {
        "id": "sD25Tc8WJ0Zl"
      }
    },
    {
      "cell_type": "code",
      "source": [
        "# Use pandas to load CSV data\n",
        "import pandas as pd\n",
        "data = pd.read_csv('payment_fraud.csv')\n"
      ],
      "metadata": {
        "id": "lHqr98jwJ4e5"
      },
      "execution_count": 10,
      "outputs": []
    },
    {
      "cell_type": "markdown",
      "source": [
        "### Accessing Dataset Attributes:\n",
        "**Purpose:** Access the attributes of the loaded datasets."
      ],
      "metadata": {
        "id": "Hqevp5T9QHRe"
      }
    },
    {
      "cell_type": "code",
      "source": [
        "print(iris.data)\n",
        "print(iris.target)\n",
        "\n"
      ],
      "metadata": {
        "id": "gh2xwEpwQKyr"
      },
      "execution_count": null,
      "outputs": []
    },
    {
      "cell_type": "markdown",
      "source": [
        "###  Creating Estimator:\n",
        "**Purpose:** Create an estimator for classification using Support Vector Classification (SVC).\n",
        "\n",
        "gamma: This parameter controls the influence of a single training example. A low value of gamma means the decision boundary will be smoother, while a high value makes the decision boundary more jagged.\n",
        "C: This parameter controls the trade-off between achieving a low training error and keeping the decision boundary as large as possible. A small value of C makes the decision boundary smoother, while a large value allows the decision boundary to fit the training data more closely, possibly resulting in overfitting.\n",
        "\n",
        "So, when you execute clf = svm.SVC(gamma=0.001, C=100.), you're creating an instance of the SVC classifier with the specified parameter values for gamma and C. This instance (clf) can then be used to fit the model to training data and make predictions on new data.\n"
      ],
      "metadata": {
        "id": "xhAIFWuYHciR"
      }
    },
    {
      "cell_type": "code",
      "source": [
        "clf = svm.SVC(gamma=0.001, C=100.)\n"
      ],
      "metadata": {
        "id": "PFzt9jhNHfI6"
      },
      "execution_count": null,
      "outputs": []
    },
    {
      "cell_type": "markdown",
      "source": [
        "###  Fitting Estimator:\n",
        "**Purpose:** Fit the estimator to the training data.\n"
      ],
      "metadata": {
        "id": "R0zKhZf-HhGT"
      }
    },
    {
      "cell_type": "code",
      "source": [
        "clf.fit(digits.data[:-1], digits.target[:-1])\n"
      ],
      "metadata": {
        "id": "FyzkkWOgHjtC"
      },
      "execution_count": null,
      "outputs": []
    },
    {
      "cell_type": "markdown",
      "source": [
        "###  Predicting with Estimator:\n",
        "**Purpose:** Use the fitted estimator to make predictions.\n"
      ],
      "metadata": {
        "id": "TO6cp9ZOHolw"
      }
    },
    {
      "cell_type": "code",
      "source": [
        "prediction = clf.predict(digits.data[-1:])\n"
      ],
      "metadata": {
        "id": "A_L0LLMYHq9H"
      },
      "execution_count": null,
      "outputs": []
    },
    {
      "cell_type": "markdown",
      "source": [
        "###  Setting Estimator Parameters:\n",
        "**Purpose:** Set parameters for the estimator."
      ],
      "metadata": {
        "id": "bzPDG_DsIfl1"
      }
    },
    {
      "cell_type": "code",
      "source": [
        "clf.set_params(kernel='linear')\n",
        "clf.set_params(kernel='rbf')\n"
      ],
      "metadata": {
        "id": "ef3w7bXeIgTk"
      },
      "execution_count": null,
      "outputs": []
    },
    {
      "cell_type": "markdown",
      "source": [
        "###  Updating Hyperparameters:\n",
        "**Purpose:** Update hyperparameters of the estimator."
      ],
      "metadata": {
        "id": "9UPj_6tEIihu"
      }
    },
    {
      "cell_type": "code",
      "source": [
        "clf.set_params(kernel='linear').fit(X, y)\n",
        "clf.set_params(kernel='rbf').fit(X, y)\n"
      ],
      "metadata": {
        "id": "fT7bVsPDInqS"
      },
      "execution_count": null,
      "outputs": []
    },
    {
      "cell_type": "markdown",
      "source": [
        "###  Handling Multiclass/Multilabel Classification:\n",
        "**Purpose:** Handle multiclass or multilabel classification scenarios."
      ],
      "metadata": {
        "id": "bqGOXjqzIqa7"
      }
    },
    {
      "cell_type": "code",
      "source": [
        "OneVsRestClassifier(estimator=SVC(random_state=0))\n",
        "LabelBinarizer().fit_transform(y)\n",
        "MultiLabelBinarizer().fit_transform(y)\n"
      ],
      "metadata": {
        "id": "akj0Xn0IIr2J"
      },
      "execution_count": null,
      "outputs": []
    },
    {
      "cell_type": "markdown",
      "source": [
        "### Learning and Predicting:\n",
        "**Purpose:** Explain the concept of learning and predicting using an example.\n"
      ],
      "metadata": {
        "id": "_J57kIc-Kkaq"
      }
    },
    {
      "cell_type": "code",
      "source": [
        "# Fitting a model and making predictions\n",
        "model.fit(X_train, y_train)\n",
        "predictions = model.predict(X_test)\n"
      ],
      "metadata": {
        "id": "okkwJulzKlFZ"
      },
      "execution_count": null,
      "outputs": []
    },
    {
      "cell_type": "markdown",
      "source": [
        "### Choosing Model Parameters:\n",
        "**Purpose:** Discuss the importance of choosing model parameters.\n"
      ],
      "metadata": {
        "id": "N0Oz7wmuKoPm"
      }
    },
    {
      "cell_type": "code",
      "source": [
        "# Using GridSearchCV to find the best parameters\n",
        "from sklearn.model_selection import GridSearchCV\n",
        "params = {'C': [0.1, 1, 10], 'kernel': ['linear', 'rbf']}\n",
        "grid_search = GridSearchCV(SVC(), params, cv=5)\n"
      ],
      "metadata": {
        "id": "4lpT6LkDKs3c"
      },
      "execution_count": null,
      "outputs": []
    },
    {
      "cell_type": "markdown",
      "source": [
        "### Refitting and Updating Parameters:\n",
        "**Purpose:** Explain how to update hyperparameters and refit the model.\n"
      ],
      "metadata": {
        "id": "IYVkPpjpKvqA"
      }
    },
    {
      "cell_type": "code",
      "source": [
        "# Updating hyperparameters and refitting the model\n",
        "clf.set_params(C=10).fit(X_train, y_train)\n"
      ],
      "metadata": {
        "id": "pu46PgL1KwN2"
      },
      "execution_count": null,
      "outputs": []
    },
    {
      "cell_type": "markdown",
      "source": [
        "### Multiclass vs. Multilabel Fitting:\n",
        "**Purpose:** Differentiate between multiclass and multilabel fitting.\n"
      ],
      "metadata": {
        "id": "fUTQuWIwKxuO"
      }
    },
    {
      "cell_type": "code",
      "source": [
        "# Multiclass classification\n",
        "OneVsRestClassifier(estimator=SVC(random_state=0))\n",
        "\n",
        "# Multilabel classification\n",
        "LabelBinarizer().fit_transform(y)\n"
      ],
      "metadata": {
        "id": "WinDfZX0Kzto"
      },
      "execution_count": null,
      "outputs": []
    },
    {
      "cell_type": "markdown",
      "source": [
        "### Type casting:\n",
        "**Purpose:** Explain how input data types are handled in scikit-learn.\n"
      ],
      "metadata": {
        "id": "tQkZVdL-K1Vg"
      }
    },
    {
      "cell_type": "code",
      "source": [
        "# Type casting example\n",
        "import numpy as np\n",
        "from sklearn import kernel_approximation\n",
        "\n",
        "X = np.random.rand(10, 2000)\n",
        "X = np.array(X, dtype='float32')\n",
        "X.dtype\n",
        "transformer = kernel_approximation.RBFSampler()\n",
        "X_new = transformer.fit_transform(X)\n",
        "X_new.dtype\n"
      ],
      "metadata": {
        "id": "X0cjDn6jK3l7"
      },
      "execution_count": null,
      "outputs": []
    }
  ]
}