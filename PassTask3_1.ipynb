{
  "nbformat": 4,
  "nbformat_minor": 0,
  "metadata": {
    "colab": {
      "provenance": [],
      "authorship_tag": "ABX9TyM0ToF+pbdx3rD43gRSxkoi",
      "include_colab_link": true
    },
    "kernelspec": {
      "name": "python3",
      "display_name": "Python 3"
    },
    "language_info": {
      "name": "python"
    }
  },
  "cells": [
    {
      "cell_type": "markdown",
      "metadata": {
        "id": "view-in-github",
        "colab_type": "text"
      },
      "source": [
        "<a href=\"https://colab.research.google.com/github/mellow-steps/S576J-Graduate-Certificate-Of-Data-Analytics/blob/main/PassTask3_1.ipynb\" target=\"_parent\"><img src=\"https://colab.research.google.com/assets/colab-badge.svg\" alt=\"Open In Colab\"/></a>"
      ]
    },
    {
      "cell_type": "markdown",
      "source": [
        "# Collection of scikit-learn commands for machine learning\n",
        "\n"
      ],
      "metadata": {
        "id": "eDDD3IstADin"
      }
    },
    {
      "cell_type": "markdown",
      "source": [
        "### 1. Importing Modules:\n",
        "**Purpose:** Import necessary modules from scikit-learn."
      ],
      "metadata": {
        "id": "NG-1GJFbGglb"
      }
    },
    {
      "cell_type": "code",
      "source": [
        "from sklearn import datasets\n",
        "from sklearn import svm\n",
        "from sklearn.datasets import load_iris\n",
        "from sklearn.multiclass import OneVsRestClassifier\n",
        "from sklearn.preprocessing import LabelBinarizer\n",
        "from sklearn.preprocessing import MultiLabelBinarizer\n",
        "from sklearn.svm import SVC\n"
      ],
      "metadata": {
        "id": "N0iMXHnKGwxJ"
      },
      "execution_count": null,
      "outputs": []
    },
    {
      "cell_type": "markdown",
      "source": [
        "### 2. Loading Datasets:\n",
        "**Purpose:** Load example datasets provided by scikit-learn.\n"
      ],
      "metadata": {
        "id": "SRo4ZB4sG6Wv"
      }
    },
    {
      "cell_type": "code",
      "source": [
        "iris = datasets.load_iris()\n",
        "digits = datasets.load_digits()\n"
      ],
      "metadata": {
        "id": "YoHnrgKCHTrM"
      },
      "execution_count": null,
      "outputs": []
    },
    {
      "cell_type": "markdown",
      "source": [
        "### 3. Accessing Dataset Attributes:\n",
        "**Purpose:** Access the attributes of the loaded datasets.\n"
      ],
      "metadata": {
        "id": "QGadjY64HWWn"
      }
    },
    {
      "cell_type": "code",
      "source": [
        "print(iris.data)\n",
        "print(iris.target)\n"
      ],
      "metadata": {
        "id": "-TX-LuLnHaBn"
      },
      "execution_count": null,
      "outputs": []
    },
    {
      "cell_type": "markdown",
      "source": [
        "### 4. Creating Estimator:\n",
        "**Purpose:** Create an estimator for classification using Support Vector Classification (SVC).\n"
      ],
      "metadata": {
        "id": "xhAIFWuYHciR"
      }
    },
    {
      "cell_type": "code",
      "source": [
        "clf = svm.SVC(gamma=0.001, C=100.)\n"
      ],
      "metadata": {
        "id": "PFzt9jhNHfI6"
      },
      "execution_count": null,
      "outputs": []
    },
    {
      "cell_type": "markdown",
      "source": [
        "### 5. Fitting Estimator:\n",
        "**Purpose:** Fit the estimator to the training data.\n"
      ],
      "metadata": {
        "id": "R0zKhZf-HhGT"
      }
    },
    {
      "cell_type": "code",
      "source": [
        "clf.fit(digits.data[:-1], digits.target[:-1])\n"
      ],
      "metadata": {
        "id": "FyzkkWOgHjtC"
      },
      "execution_count": null,
      "outputs": []
    },
    {
      "cell_type": "markdown",
      "source": [
        "### 6. Predicting with Estimator:\n",
        "**Purpose:** Use the fitted estimator to make predictions.\n"
      ],
      "metadata": {
        "id": "TO6cp9ZOHolw"
      }
    },
    {
      "cell_type": "code",
      "source": [
        "prediction = clf.predict(digits.data[-1:])\n"
      ],
      "metadata": {
        "id": "A_L0LLMYHq9H"
      },
      "execution_count": null,
      "outputs": []
    },
    {
      "cell_type": "markdown",
      "source": [
        "### 7. Setting Estimator Parameters:\n",
        "**Purpose:** Set parameters for the estimator."
      ],
      "metadata": {
        "id": "bzPDG_DsIfl1"
      }
    },
    {
      "cell_type": "code",
      "source": [
        "clf.set_params(kernel='linear')\n",
        "clf.set_params(kernel='rbf')\n"
      ],
      "metadata": {
        "id": "ef3w7bXeIgTk"
      },
      "execution_count": null,
      "outputs": []
    },
    {
      "cell_type": "markdown",
      "source": [
        "### 8. Updating Hyperparameters:\n",
        "**Purpose:** Update hyperparameters of the estimator."
      ],
      "metadata": {
        "id": "9UPj_6tEIihu"
      }
    },
    {
      "cell_type": "code",
      "source": [
        "clf.set_params(kernel='linear').fit(X, y)\n",
        "clf.set_params(kernel='rbf').fit(X, y)\n"
      ],
      "metadata": {
        "id": "fT7bVsPDInqS"
      },
      "execution_count": null,
      "outputs": []
    },
    {
      "cell_type": "markdown",
      "source": [
        "### 9. Handling Multiclass/Multilabel Classification:\n",
        "**Purpose:** Handle multiclass or multilabel classification scenarios."
      ],
      "metadata": {
        "id": "bqGOXjqzIqa7"
      }
    },
    {
      "cell_type": "code",
      "source": [
        "OneVsRestClassifier(estimator=SVC(random_state=0))\n",
        "LabelBinarizer().fit_transform(y)\n",
        "MultiLabelBinarizer().fit_transform(y)\n"
      ],
      "metadata": {
        "id": "akj0Xn0IIr2J"
      },
      "execution_count": null,
      "outputs": []
    }
  ]
}